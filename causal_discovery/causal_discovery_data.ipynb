{
 "cells": [
  {
   "cell_type": "code",
   "id": "initial_id",
   "metadata": {
    "collapsed": true,
    "ExecuteTime": {
     "end_time": "2024-06-06T12:30:48.526018Z",
     "start_time": "2024-06-06T12:30:48.520243Z"
    }
   },
   "source": [
    "import pandas as pd\n",
    "import matplotlib.pyplot as plt\n",
    "import seaborn as sns\n",
    "import scipy\n",
    "from glob import glob\n",
    "import os"
   ],
   "outputs": [],
   "execution_count": 6
  },
  {
   "metadata": {
    "ExecuteTime": {
     "end_time": "2024-06-06T12:30:50.261345Z",
     "start_time": "2024-06-06T12:30:50.202058Z"
    }
   },
   "cell_type": "code",
   "source": [
    "data = {}\n",
    "files = glob(\"../results_safe_rl_report/*/summary.csv\", recursive = True)\n",
    "\n",
    "for summary_file in files:\n",
    "    experiment = summary_file.split(os.sep)[-2]\n",
    "    variables = experiment.split(\"_\")\n",
    "    data[experiment] = pd.read_csv(summary_file)\n",
    "    data[experiment][\"algorithm\"] = variables[0]\n",
    "    data[experiment][\"shield_distance\"] = variables[1]\n",
    "    data[experiment][\"speed\"] = variables[2]\n",
    "    \n",
    "full_data = pd.concat([df for k,df in data.items()])\n",
    "# full_data = full_data[[\"speed\", \"shield_distance\", \"algorithm\", \"timeLoss\", \"lateral_collisions\", \"rear_end_collisions\"]]\n",
    "full_data.to_csv(\"causal_discovery_full_data.csv\", index=False)"
   ],
   "id": "1b8ff7c3da80eeee",
   "outputs": [],
   "execution_count": 7
  },
  {
   "metadata": {},
   "cell_type": "code",
   "outputs": [],
   "execution_count": null,
   "source": "",
   "id": "34d4b032cff44c7f"
  }
 ],
 "metadata": {
  "kernelspec": {
   "display_name": "Python 3",
   "language": "python",
   "name": "python3"
  },
  "language_info": {
   "codemirror_mode": {
    "name": "ipython",
    "version": 2
   },
   "file_extension": ".py",
   "mimetype": "text/x-python",
   "name": "python",
   "nbconvert_exporter": "python",
   "pygments_lexer": "ipython2",
   "version": "2.7.6"
  }
 },
 "nbformat": 4,
 "nbformat_minor": 5
}
