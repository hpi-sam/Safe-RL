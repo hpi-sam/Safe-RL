{
 "cells": [
  {
   "cell_type": "code",
   "id": "initial_id",
   "metadata": {
    "collapsed": true,
    "ExecuteTime": {
     "end_time": "2024-06-12T10:29:21.129514Z",
     "start_time": "2024-06-12T10:29:20.806768Z"
    }
   },
   "source": [
    "import os\n",
    "from glob import glob\n",
    "\n",
    "import pandas as pd"
   ],
   "outputs": [],
   "execution_count": 1
  },
  {
   "metadata": {
    "ExecuteTime": {
     "end_time": "2024-06-13T10:24:32.342618Z",
     "start_time": "2024-06-13T10:24:32.205498Z"
    }
   },
   "cell_type": "code",
   "source": [
    "data = {}\n",
    "files = glob(\"../results_paper/*/summary.csv\", recursive = True)\n",
    "\n",
    "for summary_file in files:\n",
    "    experiment = summary_file.split(os.sep)[-2]\n",
    "    variables = experiment.split(\"_\")\n",
    "    data[experiment] = pd.read_csv(summary_file)\n",
    "    data[experiment][\"algorithm\"] = variables[0]\n",
    "    data[experiment][\"shield_distance\"] = variables[1]\n",
    "    data[experiment][\"speed\"] = variables[2]\n",
    "    \n",
    "full_data = pd.concat([df for k,df in data.items()])\n",
    "# full_data = full_data[[\"speed\", \"shield_distance\", \"algorithm\", \"timeLoss\", \"lateral_collisions\", \"rear_end_collisions\"]]\n",
    "full_data.to_csv(\"causal_discovery_new_data.csv\", index=False)"
   ],
   "id": "1b8ff7c3da80eeee",
   "outputs": [],
   "execution_count": 4
  },
  {
   "metadata": {
    "ExecuteTime": {
     "end_time": "2024-06-10T10:40:41.747169Z",
     "start_time": "2024-06-10T10:40:41.745863Z"
    }
   },
   "cell_type": "code",
   "source": "",
   "id": "34d4b032cff44c7f",
   "outputs": [],
   "execution_count": 2
  }
 ],
 "metadata": {
  "kernelspec": {
   "display_name": "Python 3",
   "language": "python",
   "name": "python3"
  },
  "language_info": {
   "codemirror_mode": {
    "name": "ipython",
    "version": 2
   },
   "file_extension": ".py",
   "mimetype": "text/x-python",
   "name": "python",
   "nbconvert_exporter": "python",
   "pygments_lexer": "ipython2",
   "version": "2.7.6"
  }
 },
 "nbformat": 4,
 "nbformat_minor": 5
}
